{
 "cells": [
  {
   "cell_type": "markdown",
   "metadata": {},
   "source": [
    "### Title: Land Cover Classification Using Landsat Imagery in Google Earth Engine\n",
    "\n",
    "#### Introduction:\n",
    "This notebook provides a detailed process of conducting land cover classification using Landsat imagery using the Google Earth Engine platform. \n",
    "\n",
    "The Part 1 of this notebook deals with relevant data collection processes that is required to conduct the analysis i.e., defining the helper functions required to retrieve Landsat data for a specified geographic location, date range, and cloud cover threshold, defining functions for creating interactive map for visualizing Landsat imagery, and collecting the training data required for building a classification model.\n",
    "\n",
    "The Part 2 of this notebook utilizes the data collected in Part 1 and builds a classification model to identify landcover classes and creates a visualization to identify changes in land cover from one class to other. \n",
    "\n",
    "#### Data & Logistics:\n",
    "\n",
    "1. Data Provided: The location data provided was a .kml file that represented the Big Coast Project area. This large polygon was then processed in QGIS to split the large polygon into small sized polygons representing the area.\n",
    "2. Data Used: Out of the several split polygons, only one polygon was used to create this project. Apart from that, for creating a training sample we will require land classification data that can be used to train a Machine Learning model and assess its accuracy. In this regard, the training data was created using the \"Land Cover of North America at 30 meters, 2020\" created by USGS between dates \"2019-01-01T00:00:00Z–2021-12-31T00:00:00\" and accessed via earth engine API(https://developers.google.com/earth-engine/datasets/catalog/USGS_NLCD_RELEASES_2020_REL_NALCMS).\n",
    "3. To process and estimate the biomass cover for the desired area, data from Global Ecosystem Dynamics Investigation (GEDI), was used (https://daac.ornl.gov/GEDI/guides/GEDI_L4B_Gridded_Biomass.html). This dataset provides estimates of mean aboveground biomass density (AGBD) based on observations from 2019-04-18 to 2021-08-04 for the entire globe. The dataset available was for the entire globe, barring most areas from our desired project locations. However, I did get some representative samples of data extracted that was used for estimating biomass. (This part is covered in details in notebook 2).   "
   ]
  },
  {
   "cell_type": "code",
   "execution_count": 11,
   "metadata": {},
   "outputs": [
    {
     "data": {
      "text/html": [
       "\n",
       "            <style>\n",
       "                .geemap-dark {\n",
       "                    --jp-widgets-color: white;\n",
       "                    --jp-widgets-label-color: white;\n",
       "                    --jp-ui-font-color1: white;\n",
       "                    --jp-layout-color2: #454545;\n",
       "                    background-color: #383838;\n",
       "                }\n",
       "                    \n",
       "                .geemap-dark .jupyter-button {\n",
       "                    --jp-layout-color3: #383838;\n",
       "                }\n",
       "                \n",
       "                .geemap-colab {\n",
       "                    background-color: var(--colab-primary-surface-color, white);\n",
       "                }\n",
       "                    \n",
       "                .geemap-colab .jupyter-button {\n",
       "                    --jp-layout-color3: var(--colab-primary-surface-color, white);\n",
       "                }\n",
       "            </style>\n",
       "            "
      ],
      "text/plain": [
       "<IPython.core.display.HTML object>"
      ]
     },
     "metadata": {},
     "output_type": "display_data"
    }
   ],
   "source": [
    "# Import the required libraries\n",
    "\n",
    "import ee\n",
    "import geemap\n",
    "import pandas as pd\n",
    "import geopandas as gpd"
   ]
  },
  {
   "cell_type": "code",
   "execution_count": 12,
   "metadata": {},
   "outputs": [
    {
     "data": {
      "text/html": [
       "\n",
       "            <style>\n",
       "                .geemap-dark {\n",
       "                    --jp-widgets-color: white;\n",
       "                    --jp-widgets-label-color: white;\n",
       "                    --jp-ui-font-color1: white;\n",
       "                    --jp-layout-color2: #454545;\n",
       "                    background-color: #383838;\n",
       "                }\n",
       "                    \n",
       "                .geemap-dark .jupyter-button {\n",
       "                    --jp-layout-color3: #383838;\n",
       "                }\n",
       "                \n",
       "                .geemap-colab {\n",
       "                    background-color: var(--colab-primary-surface-color, white);\n",
       "                }\n",
       "                    \n",
       "                .geemap-colab .jupyter-button {\n",
       "                    --jp-layout-color3: var(--colab-primary-surface-color, white);\n",
       "                }\n",
       "            </style>\n",
       "            "
      ],
      "text/plain": [
       "<IPython.core.display.HTML object>"
      ]
     },
     "metadata": {},
     "output_type": "display_data"
    }
   ],
   "source": [
    "# # Authenticate and initialize the earthengine library\n",
    "# # Trigger the authentication flow.\n",
    "# ee.Authenticate()\n",
    "\n",
    "# # Initialize the library.\n",
    "# ee.Initialize()"
   ]
  },
  {
   "cell_type": "code",
   "execution_count": 13,
   "metadata": {},
   "outputs": [
    {
     "data": {
      "text/html": [
       "\n",
       "            <style>\n",
       "                .geemap-dark {\n",
       "                    --jp-widgets-color: white;\n",
       "                    --jp-widgets-label-color: white;\n",
       "                    --jp-ui-font-color1: white;\n",
       "                    --jp-layout-color2: #454545;\n",
       "                    background-color: #383838;\n",
       "                }\n",
       "                    \n",
       "                .geemap-dark .jupyter-button {\n",
       "                    --jp-layout-color3: #383838;\n",
       "                }\n",
       "                \n",
       "                .geemap-colab {\n",
       "                    background-color: var(--colab-primary-surface-color, white);\n",
       "                }\n",
       "                    \n",
       "                .geemap-colab .jupyter-button {\n",
       "                    --jp-layout-color3: var(--colab-primary-surface-color, white);\n",
       "                }\n",
       "            </style>\n",
       "            "
      ],
      "text/plain": [
       "<IPython.core.display.HTML object>"
      ]
     },
     "metadata": {},
     "output_type": "display_data"
    }
   ],
   "source": [
    "# Define the helper functions\n",
    "\n",
    "def fetch_landsat_data(location: ee.Geometry, \n",
    "                       start_date: str, \n",
    "                       end_date: str, \n",
    "                       cloud_cover: int):\n",
    "    \"\"\"\n",
    "    This function fetches the landsat data between a date range (start and end date)\n",
    "    for a location and returns a landsat imagery containing bands between B1 and B7.\n",
    "    :param location: desired geometric location (Point or Polygon)\n",
    "    :param start_date: start date\n",
    "    :param end_date: end date\n",
    "    :param cloud_cover: percent of cloud cover\n",
    "    :return:earth engine image collection\n",
    "    \"\"\"\n",
    "    # Define the Landsat image collection\n",
    "    landsat_image = ee.ImageCollection('LANDSAT/LC08/C02/T1_TOA'). \\\n",
    "        filterDate(ee.Date(start_date), ee.Date(end_date)). \\\n",
    "        filterBounds(location). \\\n",
    "        filterMetadata('CLOUD_COVER', 'less_than', cloud_cover).first(). \\\n",
    "        select('B[1-7]')\n",
    "\n",
    "    return landsat_image\n",
    "\n",
    "\n",
    "def create_map(location: ee.Geometry, image: ee.Image):\n",
    "    \"\"\"\n",
    "    This function is in the context of the Google Earth Engine Python API,\n",
    "    that takes in the location and image (landsat) and outputs an interactive \n",
    "    map that can be used for visualizing geospatial data and results.\n",
    "    :param location: location to focus on the basemap\n",
    "    :param image: landsat imagery to overlay on basemap\n",
    "    :return: geemap Map object\n",
    "    \"\"\"\n",
    "    Map = geemap.Map()\n",
    "    Map.centerObject(location, 10)\n",
    "    Map.addLayer(image, {\n",
    "        'bands': ['B4', 'B3', 'B2'],\n",
    "        'min': 0,\n",
    "        'max': 0.4,\n",
    "        'gamma': 1.4\n",
    "    }, 'Landsat Composite')\n",
    "    return Map"
   ]
  },
  {
   "cell_type": "code",
   "execution_count": null,
   "metadata": {},
   "outputs": [],
   "source": []
  }
 ],
 "metadata": {
  "kernelspec": {
   "display_name": "Python 3 (ipykernel)",
   "language": "python",
   "name": "python3"
  },
  "language_info": {
   "codemirror_mode": {
    "name": "ipython",
    "version": 3
   },
   "file_extension": ".py",
   "mimetype": "text/x-python",
   "name": "python",
   "nbconvert_exporter": "python",
   "pygments_lexer": "ipython3",
   "version": "3.11.2"
  }
 },
 "nbformat": 4,
 "nbformat_minor": 4
}
