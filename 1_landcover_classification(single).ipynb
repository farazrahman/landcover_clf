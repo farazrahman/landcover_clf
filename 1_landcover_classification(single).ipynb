{
 "cells": [
  {
   "cell_type": "markdown",
   "metadata": {},
   "source": [
    "### Title: Land Cover Classification Using Landsat Imagery in Google Earth Engine\n",
    "\n",
    "#### Introduction:\n",
    "This notebook provides a detailed process of conducting land cover classification using Landsat imagery using the Google Earth Engine platform. \n",
    "\n",
    "The Part 1 of this notebook deals with relevant data collection processes that is required to conduct the analysis i.e., defining the helper functions required to retrieve Landsat data for a specified geographic location, date range, and cloud cover threshold, defining functions for creating interactive map for visualizing Landsat imagery, and collecting the training data required for building a classification model.\n",
    "\n",
    "The Part 2 of this notebook utilizes the data collected in Part 1 and builds a classification model to identify landcover classes and creates a visualization to identify changes in land cover from one class to other. \n",
    "\n",
    "#### Data & Logistics:\n",
    "\n",
    "1. Data Provided: The location data provided was a .kml file that represented the Big Coast Project area. This large polygon was then processed in QGIS to split the large polygon into small sized polygons representing the area.\n",
    "2. Data Used: Out of the several split polygons, only one polygon was used to create this project. Apart from that, for creating a training sample we will require land classification data that can be used to train a Machine Learning model and assess its accuracy. In this regard, the training data was created using the \"Land Cover of North America at 30 meters, 2020\" created by USGS between dates \"2019-01-01T00:00:00Z–2021-12-31T00:00:00\" and accessed via earth engine API(https://developers.google.com/earth-engine/datasets/catalog/USGS_NLCD_RELEASES_2020_REL_NALCMS).\n",
    "3. To process and estimate the biomass cover for the desired area, data from Global Ecosystem Dynamics Investigation (GEDI), was used (https://daac.ornl.gov/GEDI/guides/GEDI_L4B_Gridded_Biomass.html). This dataset provides estimates of mean aboveground biomass density (AGBD) based on observations from 2019-04-18 to 2021-08-04 for the entire globe. The dataset available was for the entire globe, barring most areas from our desired project locations. However, I did get some representative samples of data extracted that was used for estimating biomass. (This part is covered in details in notebook 2).   "
   ]
  },
  {
   "cell_type": "code",
   "execution_count": 152,
   "metadata": {},
   "outputs": [
    {
     "data": {
      "text/html": [
       "\n",
       "            <style>\n",
       "                .geemap-dark {\n",
       "                    --jp-widgets-color: white;\n",
       "                    --jp-widgets-label-color: white;\n",
       "                    --jp-ui-font-color1: white;\n",
       "                    --jp-layout-color2: #454545;\n",
       "                    background-color: #383838;\n",
       "                }\n",
       "                    \n",
       "                .geemap-dark .jupyter-button {\n",
       "                    --jp-layout-color3: #383838;\n",
       "                }\n",
       "                \n",
       "                .geemap-colab {\n",
       "                    background-color: var(--colab-primary-surface-color, white);\n",
       "                }\n",
       "                    \n",
       "                .geemap-colab .jupyter-button {\n",
       "                    --jp-layout-color3: var(--colab-primary-surface-color, white);\n",
       "                }\n",
       "            </style>\n",
       "            "
      ],
      "text/plain": [
       "<IPython.core.display.HTML object>"
      ]
     },
     "metadata": {},
     "output_type": "display_data"
    }
   ],
   "source": [
    "# Import the required libraries\n",
    "\n",
    "import ee\n",
    "import geemap\n",
    "import pandas as pd\n",
    "import geopandas as gpd"
   ]
  },
  {
   "cell_type": "code",
   "execution_count": 153,
   "metadata": {},
   "outputs": [
    {
     "data": {
      "text/html": [
       "\n",
       "            <style>\n",
       "                .geemap-dark {\n",
       "                    --jp-widgets-color: white;\n",
       "                    --jp-widgets-label-color: white;\n",
       "                    --jp-ui-font-color1: white;\n",
       "                    --jp-layout-color2: #454545;\n",
       "                    background-color: #383838;\n",
       "                }\n",
       "                    \n",
       "                .geemap-dark .jupyter-button {\n",
       "                    --jp-layout-color3: #383838;\n",
       "                }\n",
       "                \n",
       "                .geemap-colab {\n",
       "                    background-color: var(--colab-primary-surface-color, white);\n",
       "                }\n",
       "                    \n",
       "                .geemap-colab .jupyter-button {\n",
       "                    --jp-layout-color3: var(--colab-primary-surface-color, white);\n",
       "                }\n",
       "            </style>\n",
       "            "
      ],
      "text/plain": [
       "<IPython.core.display.HTML object>"
      ]
     },
     "metadata": {},
     "output_type": "display_data"
    }
   ],
   "source": [
    "# # Authenticate and initialize the earthengine library\n",
    "# # Trigger the authentication flow.\n",
    "# ee.Authenticate()\n",
    "\n",
    "# # Initialize the library.\n",
    "# ee.Initialize()"
   ]
  },
  {
   "cell_type": "markdown",
   "metadata": {},
   "source": [
    "### PART 1:"
   ]
  },
  {
   "cell_type": "code",
   "execution_count": 154,
   "metadata": {},
   "outputs": [
    {
     "data": {
      "text/html": [
       "\n",
       "            <style>\n",
       "                .geemap-dark {\n",
       "                    --jp-widgets-color: white;\n",
       "                    --jp-widgets-label-color: white;\n",
       "                    --jp-ui-font-color1: white;\n",
       "                    --jp-layout-color2: #454545;\n",
       "                    background-color: #383838;\n",
       "                }\n",
       "                    \n",
       "                .geemap-dark .jupyter-button {\n",
       "                    --jp-layout-color3: #383838;\n",
       "                }\n",
       "                \n",
       "                .geemap-colab {\n",
       "                    background-color: var(--colab-primary-surface-color, white);\n",
       "                }\n",
       "                    \n",
       "                .geemap-colab .jupyter-button {\n",
       "                    --jp-layout-color3: var(--colab-primary-surface-color, white);\n",
       "                }\n",
       "            </style>\n",
       "            "
      ],
      "text/plain": [
       "<IPython.core.display.HTML object>"
      ]
     },
     "metadata": {},
     "output_type": "display_data"
    }
   ],
   "source": [
    "# Define the helper functions\n",
    "\n",
    "def fetch_landsat_data(location: ee.Geometry, \n",
    "                       start_date: str, \n",
    "                       end_date: str, \n",
    "                       cloud_cover: int):\n",
    "    \"\"\"\n",
    "    This function fetches the landsat data between a date range (start and end date)\n",
    "    for a location and returns a landsat imagery containing bands between B1 and B7.\n",
    "    :param location: desired geometric location (Point or Polygon)\n",
    "    :param start_date: start date\n",
    "    :param end_date: end date\n",
    "    :param cloud_cover: percent of cloud cover\n",
    "    :return:earth engine image collection\n",
    "    \"\"\"\n",
    "    # Define the Landsat image collection\n",
    "    landsat_image = ee.ImageCollection('LANDSAT/LC08/C02/T1_TOA'). \\\n",
    "        filterDate(ee.Date(start_date), ee.Date(end_date)). \\\n",
    "        filterBounds(location). \\\n",
    "        filterMetadata('CLOUD_COVER', 'less_than', cloud_cover).first(). \\\n",
    "        select('B[1-7]')\n",
    "\n",
    "    print(f\"The date of fetched image is {ee.Date(landsat_image.get('system:time_start')).format('YYYY-MM-dd').getInfo()}\")\n",
    "\n",
    "    print(f\"The cloud cover is {landsat_image.get('CLOUD_COVER').getInfo()}\")\n",
    "\n",
    "    return landsat_image\n",
    "\n",
    "\n",
    "def create_map(location: ee.Geometry, image: ee.Image):\n",
    "    \"\"\"\n",
    "    This function is in the context of the Google Earth Engine Python API,\n",
    "    that takes in the location and image (landsat) and outputs an interactive \n",
    "    map that can be used for visualizing geospatial data and results.\n",
    "    :param location: location to focus on the basemap\n",
    "    :param image: landsat imagery to overlay on basemap\n",
    "    :return: geemap Map object\n",
    "    \"\"\"\n",
    "    Map = geemap.Map()\n",
    "    Map.centerObject(location, 6)\n",
    "    Map.addLayer(image, {\n",
    "        'bands': ['B4', 'B3', 'B2'],\n",
    "        'min': 0,\n",
    "        'max': 0.4,\n",
    "        'gamma': 1.4\n",
    "    }, 'Landsat Composite')\n",
    "    return Map"
   ]
  },
  {
   "cell_type": "markdown",
   "metadata": {},
   "source": [
    "#### Data Preparation:\n",
    "\n",
    "1. Define the area of interest i.e. one polygon from the entire area\n",
    "2. Define and fetch the year of study (or model training data) and date of fetching the landsat imagery- The training year is 2020, because we have nlcd data(which is used for training labels) for the year 2020.\n",
    "3. Fetch the nlcd data to create training samples.\n",
    "4. Fetch the image data for prediction, which must be 2 years apart (we will take, 2022 as prediction year)"
   ]
  },
  {
   "cell_type": "code",
   "execution_count": 155,
   "metadata": {},
   "outputs": [
    {
     "data": {
      "text/html": [
       "\n",
       "            <style>\n",
       "                .geemap-dark {\n",
       "                    --jp-widgets-color: white;\n",
       "                    --jp-widgets-label-color: white;\n",
       "                    --jp-ui-font-color1: white;\n",
       "                    --jp-layout-color2: #454545;\n",
       "                    background-color: #383838;\n",
       "                }\n",
       "                    \n",
       "                .geemap-dark .jupyter-button {\n",
       "                    --jp-layout-color3: #383838;\n",
       "                }\n",
       "                \n",
       "                .geemap-colab {\n",
       "                    background-color: var(--colab-primary-surface-color, white);\n",
       "                }\n",
       "                    \n",
       "                .geemap-colab .jupyter-button {\n",
       "                    --jp-layout-color3: var(--colab-primary-surface-color, white);\n",
       "                }\n",
       "            </style>\n",
       "            "
      ],
      "text/plain": [
       "<IPython.core.display.HTML object>"
      ]
     },
     "metadata": {},
     "output_type": "display_data"
    }
   ],
   "source": [
    "# 1. Define the area of interest i.e. one polygon from the entire area\n",
    "\n",
    "# Load the required polygon dataset\n",
    "split_polygons = gpd.read_file('boundary_clipped.geojson')\n",
    "\n",
    "# extract a desired polygon from the file and assign it as a area of interest.\n",
    "polygon_47 = split_polygons[split_polygons['id'] == 47]\n",
    "multipolygon_string = str(polygon_47['geometry'].iloc[0])\n",
    "\n",
    "# Extract the coordinates from the string and format them into a list of lists\n",
    "coordinates = multipolygon_string.strip(\"MULTIPOLYGON (((\").rstrip(\"))\").split(\", \")\n",
    "coordinate_list = [list(map(float, point.split(\" \"))) for point in coordinates]\n",
    "\n",
    "# Add the first point at the end to create a closed polygon\n",
    "coordinate_list.append(coordinate_list[0])\n",
    "\n",
    "# print(coordinate_list)\n",
    "\n",
    "# Convert the string to earth engine Multipolygon object\n",
    "\n",
    "aoi_47 = ee.Geometry.MultiPolygon(coordinate_list)\n",
    "\n",
    "# aoi_47.getInfo()"
   ]
  },
  {
   "cell_type": "code",
   "execution_count": 156,
   "metadata": {},
   "outputs": [
    {
     "data": {
      "text/html": [
       "\n",
       "            <style>\n",
       "                .geemap-dark {\n",
       "                    --jp-widgets-color: white;\n",
       "                    --jp-widgets-label-color: white;\n",
       "                    --jp-ui-font-color1: white;\n",
       "                    --jp-layout-color2: #454545;\n",
       "                    background-color: #383838;\n",
       "                }\n",
       "                    \n",
       "                .geemap-dark .jupyter-button {\n",
       "                    --jp-layout-color3: #383838;\n",
       "                }\n",
       "                \n",
       "                .geemap-colab {\n",
       "                    background-color: var(--colab-primary-surface-color, white);\n",
       "                }\n",
       "                    \n",
       "                .geemap-colab .jupyter-button {\n",
       "                    --jp-layout-color3: var(--colab-primary-surface-color, white);\n",
       "                }\n",
       "            </style>\n",
       "            "
      ],
      "text/plain": [
       "<IPython.core.display.HTML object>"
      ]
     },
     "metadata": {},
     "output_type": "display_data"
    },
    {
     "name": "stdout",
     "output_type": "stream",
     "text": [
      "The date of fetched image is 2020-07-27\n",
      "The cloud cover is 7.79\n"
     ]
    },
    {
     "data": {
      "application/vnd.jupyter.widget-view+json": {
       "model_id": "47c801acd7734f40ba8e51b7da7800f5",
       "version_major": 2,
       "version_minor": 0
      },
      "text/plain": [
       "Map(center=[50.205892979516676, -126.7178366678171], controls=(WidgetControl(options=['position', 'transparent…"
      ]
     },
     "execution_count": 156,
     "metadata": {},
     "output_type": "execute_result"
    }
   ],
   "source": [
    "# 2. Fetch the training year data i.e., landsat imagery from 2020 between May to August\n",
    "\n",
    "landsat_2020 = fetch_landsat_data(location = aoi_47, \n",
    "                                   start_date = ee.Date('2020-06-01'), \n",
    "                                   end_date = ee.Date('2020-08-31'), \n",
    "                                   cloud_cover = 10)\n",
    "\n",
    "\n",
    "create_map(location = aoi_47, image = landsat_2020)"
   ]
  },
  {
   "cell_type": "code",
   "execution_count": 157,
   "metadata": {},
   "outputs": [
    {
     "data": {
      "text/html": [
       "\n",
       "            <style>\n",
       "                .geemap-dark {\n",
       "                    --jp-widgets-color: white;\n",
       "                    --jp-widgets-label-color: white;\n",
       "                    --jp-ui-font-color1: white;\n",
       "                    --jp-layout-color2: #454545;\n",
       "                    background-color: #383838;\n",
       "                }\n",
       "                    \n",
       "                .geemap-dark .jupyter-button {\n",
       "                    --jp-layout-color3: #383838;\n",
       "                }\n",
       "                \n",
       "                .geemap-colab {\n",
       "                    background-color: var(--colab-primary-surface-color, white);\n",
       "                }\n",
       "                    \n",
       "                .geemap-colab .jupyter-button {\n",
       "                    --jp-layout-color3: var(--colab-primary-surface-color, white);\n",
       "                }\n",
       "            </style>\n",
       "            "
      ],
      "text/plain": [
       "<IPython.core.display.HTML object>"
      ]
     },
     "metadata": {},
     "output_type": "display_data"
    },
    {
     "data": {
      "application/vnd.jupyter.widget-view+json": {
       "model_id": "4538831cb85344b6811c720ba33674dc",
       "version_major": 2,
       "version_minor": 0
      },
      "text/plain": [
       "Map(center=[50.205892979516676, -126.7178366678171], controls=(WidgetControl(options=['position', 'transparent…"
      ]
     },
     "execution_count": 157,
     "metadata": {},
     "output_type": "execute_result"
    }
   ],
   "source": [
    "# 3. Fetch the nlcd data to create training samples.\n",
    "\n",
    "# Here we are loading the land classification data from the USGS Land Cover of North America at 30 meters, 2020 and clipping the area 47\n",
    "# This will provide labels of classification \n",
    "nlcd_2020 = ee.Image('USGS/NLCD_RELEASES/2020_REL/NALCMS').select('landcover').clip(aoi_47)\n",
    "Map2 = geemap.Map()\n",
    "Map2.centerObject(aoi_47, 6)\n",
    "Map2.addLayer(nlcd_2020, {}, 'NLCD')\n",
    "Map2"
   ]
  },
  {
   "cell_type": "code",
   "execution_count": 158,
   "metadata": {},
   "outputs": [
    {
     "data": {
      "text/html": [
       "\n",
       "            <style>\n",
       "                .geemap-dark {\n",
       "                    --jp-widgets-color: white;\n",
       "                    --jp-widgets-label-color: white;\n",
       "                    --jp-ui-font-color1: white;\n",
       "                    --jp-layout-color2: #454545;\n",
       "                    background-color: #383838;\n",
       "                }\n",
       "                    \n",
       "                .geemap-dark .jupyter-button {\n",
       "                    --jp-layout-color3: #383838;\n",
       "                }\n",
       "                \n",
       "                .geemap-colab {\n",
       "                    background-color: var(--colab-primary-surface-color, white);\n",
       "                }\n",
       "                    \n",
       "                .geemap-colab .jupyter-button {\n",
       "                    --jp-layout-color3: var(--colab-primary-surface-color, white);\n",
       "                }\n",
       "            </style>\n",
       "            "
      ],
      "text/plain": [
       "<IPython.core.display.HTML object>"
      ]
     },
     "metadata": {},
     "output_type": "display_data"
    },
    {
     "name": "stdout",
     "output_type": "stream",
     "text": [
      "The date of fetched image is 2022-08-18\n",
      "The cloud cover is 9.73\n"
     ]
    },
    {
     "data": {
      "application/vnd.jupyter.widget-view+json": {
       "model_id": "7e6fbc2381da4d51b84dd58dbe0c421a",
       "version_major": 2,
       "version_minor": 0
      },
      "text/plain": [
       "Map(center=[50.205892979516676, -126.7178366678171], controls=(WidgetControl(options=['position', 'transparent…"
      ]
     },
     "execution_count": 158,
     "metadata": {},
     "output_type": "execute_result"
    }
   ],
   "source": [
    "# 4.Fetch the image data for prediction, which must be 2 years apart (we will take, 2022 as prediction year)\n",
    "\n",
    "landsat_2022 = fetch_landsat_data(location = aoi_47, \n",
    "                                   start_date = ee.Date('2022-05-01'), \n",
    "                                   end_date = ee.Date('2022-08-31'), \n",
    "                                   cloud_cover = 10)\n",
    "\n",
    "\n",
    "create_map(location = aoi_47, image = landsat_2022)"
   ]
  },
  {
   "cell_type": "code",
   "execution_count": 168,
   "metadata": {},
   "outputs": [
    {
     "data": {
      "text/html": [
       "\n",
       "            <style>\n",
       "                .geemap-dark {\n",
       "                    --jp-widgets-color: white;\n",
       "                    --jp-widgets-label-color: white;\n",
       "                    --jp-ui-font-color1: white;\n",
       "                    --jp-layout-color2: #454545;\n",
       "                    background-color: #383838;\n",
       "                }\n",
       "                    \n",
       "                .geemap-dark .jupyter-button {\n",
       "                    --jp-layout-color3: #383838;\n",
       "                }\n",
       "                \n",
       "                .geemap-colab {\n",
       "                    background-color: var(--colab-primary-surface-color, white);\n",
       "                }\n",
       "                    \n",
       "                .geemap-colab .jupyter-button {\n",
       "                    --jp-layout-color3: var(--colab-primary-surface-color, white);\n",
       "                }\n",
       "            </style>\n",
       "            "
      ],
      "text/plain": [
       "<IPython.core.display.HTML object>"
      ]
     },
     "metadata": {},
     "output_type": "display_data"
    },
    {
     "name": "stdout",
     "output_type": "stream",
     "text": [
      "The date of fetched image is 2022-09-19\n",
      "The cloud cover is 4.39\n"
     ]
    },
    {
     "data": {
      "application/vnd.jupyter.widget-view+json": {
       "model_id": "10acdedbefbb437d8327eb32a171c2f8",
       "version_major": 2,
       "version_minor": 0
      },
      "text/plain": [
       "Map(center=[50.205892979516676, -126.7178366678171], controls=(WidgetControl(options=['position', 'transparent…"
      ]
     },
     "execution_count": 168,
     "metadata": {},
     "output_type": "execute_result"
    }
   ],
   "source": [
    "# 5. This is an additional step, to get another image from the year 2022 to understand some images \n",
    "# from fall time frame in the desired location.  \n",
    "\n",
    "landsat_2022_fall = fetch_landsat_data(location = aoi_47, \n",
    "                                   start_date = ee.Date('2022-08-31'), \n",
    "                                   end_date = ee.Date('2022-12-31'), \n",
    "                                   cloud_cover = 10)\n",
    "\n",
    "\n",
    "create_map(location = aoi_47, image = landsat_2022)"
   ]
  },
  {
   "cell_type": "markdown",
   "metadata": {},
   "source": [
    "#### Model Training and Testing:\n",
    "\n",
    "In this step following tasks will take place:\n",
    "\n",
    "1. Creating a training data set for machine learning or classification task. This step samples a specific number of points within the defined ROI from the NLCD data, including both pixel values and geometries, which can be used for training and validating machine learning models for land cover classification or other geospatial analyses.\n",
    "2. Creat 3 classification models(CART, SVM and RandomForest) and compare the results. "
   ]
  },
  {
   "cell_type": "code",
   "execution_count": 160,
   "metadata": {},
   "outputs": [
    {
     "data": {
      "text/html": [
       "\n",
       "            <style>\n",
       "                .geemap-dark {\n",
       "                    --jp-widgets-color: white;\n",
       "                    --jp-widgets-label-color: white;\n",
       "                    --jp-ui-font-color1: white;\n",
       "                    --jp-layout-color2: #454545;\n",
       "                    background-color: #383838;\n",
       "                }\n",
       "                    \n",
       "                .geemap-dark .jupyter-button {\n",
       "                    --jp-layout-color3: #383838;\n",
       "                }\n",
       "                \n",
       "                .geemap-colab {\n",
       "                    background-color: var(--colab-primary-surface-color, white);\n",
       "                }\n",
       "                    \n",
       "                .geemap-colab .jupyter-button {\n",
       "                    --jp-layout-color3: var(--colab-primary-surface-color, white);\n",
       "                }\n",
       "            </style>\n",
       "            "
      ],
      "text/plain": [
       "<IPython.core.display.HTML object>"
      ]
     },
     "metadata": {},
     "output_type": "display_data"
    },
    {
     "name": "stdout",
     "output_type": "stream",
     "text": [
      "4199\n",
      "{'type': 'Feature', 'geometry': {'type': 'Point', 'coordinates': [-126.58430450087165, 49.74523604477778]}, 'id': '0', 'properties': {'landcover': 8}}\n"
     ]
    }
   ],
   "source": [
    "# Make the training dataset.\n",
    "points = nlcd_2020.sample(\n",
    "    **{\n",
    "        'region': aoi_47,\n",
    "        'scale': 30,\n",
    "        'numPixels': 5000,\n",
    "        'seed': 0,\n",
    "        'geometries': True,  \n",
    "    }\n",
    ")\n",
    "print(points.size().getInfo())\n",
    "print(points.first().getInfo())"
   ]
  },
  {
   "cell_type": "code",
   "execution_count": 161,
   "metadata": {},
   "outputs": [
    {
     "data": {
      "text/html": [
       "\n",
       "            <style>\n",
       "                .geemap-dark {\n",
       "                    --jp-widgets-color: white;\n",
       "                    --jp-widgets-label-color: white;\n",
       "                    --jp-ui-font-color1: white;\n",
       "                    --jp-layout-color2: #454545;\n",
       "                    background-color: #383838;\n",
       "                }\n",
       "                    \n",
       "                .geemap-dark .jupyter-button {\n",
       "                    --jp-layout-color3: #383838;\n",
       "                }\n",
       "                \n",
       "                .geemap-colab {\n",
       "                    background-color: var(--colab-primary-surface-color, white);\n",
       "                }\n",
       "                    \n",
       "                .geemap-colab .jupyter-button {\n",
       "                    --jp-layout-color3: var(--colab-primary-surface-color, white);\n",
       "                }\n",
       "            </style>\n",
       "            "
      ],
      "text/plain": [
       "<IPython.core.display.HTML object>"
      ]
     },
     "metadata": {},
     "output_type": "display_data"
    }
   ],
   "source": [
    "# Define the bands for prediction.\n",
    "bands = ['B1', 'B2', 'B3', 'B4', 'B5', 'B6', 'B7']\n",
    "\n",
    "# Define the label which is the land cover labels.\n",
    "label = 'landcover'\n",
    "\n",
    "# Split the data into training and testing sets.\n",
    "split = 0.7  \n",
    "\n",
    "# Create a random column for each feature\n",
    "points_with_random = points.randomColumn('random')\n",
    "\n",
    "# Filter the collection based on the random number and the split ratio.\n",
    "training_set = points_with_random.filter(ee.Filter.lt('random', split))\n",
    "testing_set = points_with_random.filter(ee.Filter.gte('random', split))\n",
    "\n",
    "\n",
    "# Overlay the points on the imagery to get training.\n",
    "training = landsat_2020.select(bands).sampleRegions(\n",
    "    **{'collection': training_set, 'properties': [label], 'scale': 30}\n",
    ")\n",
    "\n",
    "# Train a CART classifier with default parameters.\n",
    "# trained = ee.Classifier.smileCart().train(training, label, bands)\n",
    "\n",
    "# trained = ee.Classifier.smileRandomForest(10).train(training, label, bands)\n",
    "\n",
    "# print(training.first().getInfo())\n",
    "\n",
    "\n",
    "\n",
    "# Train Random Forest\n",
    "rf_model = ee.Classifier.smileRandomForest(10).train(training, label, bands)\n",
    "\n",
    "# Train SVM\n",
    "svm_model = ee.Classifier.libsvm().train(training, label, bands)\n",
    "\n",
    "# Train CART (Decision Tree)\n",
    "cart_model = ee.Classifier.smileCart().train(training, label, bands)"
   ]
  },
  {
   "cell_type": "code",
   "execution_count": 162,
   "metadata": {},
   "outputs": [
    {
     "data": {
      "text/html": [
       "\n",
       "            <style>\n",
       "                .geemap-dark {\n",
       "                    --jp-widgets-color: white;\n",
       "                    --jp-widgets-label-color: white;\n",
       "                    --jp-ui-font-color1: white;\n",
       "                    --jp-layout-color2: #454545;\n",
       "                    background-color: #383838;\n",
       "                }\n",
       "                    \n",
       "                .geemap-dark .jupyter-button {\n",
       "                    --jp-layout-color3: #383838;\n",
       "                }\n",
       "                \n",
       "                .geemap-colab {\n",
       "                    background-color: var(--colab-primary-surface-color, white);\n",
       "                }\n",
       "                    \n",
       "                .geemap-colab .jupyter-button {\n",
       "                    --jp-layout-color3: var(--colab-primary-surface-color, white);\n",
       "                }\n",
       "            </style>\n",
       "            "
      ],
      "text/plain": [
       "<IPython.core.display.HTML object>"
      ]
     },
     "metadata": {},
     "output_type": "display_data"
    },
    {
     "name": "stdout",
     "output_type": "stream",
     "text": [
      "Random Forest Accuracy: 0.820979020979021\n",
      "SVM Accuracy: 0.779020979020979\n",
      "CART Accuracy: 0.7538461538461538\n"
     ]
    }
   ],
   "source": [
    "# Make predictions on the testing set.\n",
    "testing = landsat_2020.select(bands).sampleRegions(\n",
    "    collection=testing_set,\n",
    "    properties=[label],\n",
    "    scale=30\n",
    ")\n",
    "# Make predictions\n",
    "rf_predictions = testing.classify(rf_model)\n",
    "svm_predictions = testing.classify(svm_model)\n",
    "cart_predictions = testing.classify(cart_model)\n",
    "\n",
    "# Calculate accuracy for each model\n",
    "rf_accuracy = rf_predictions.errorMatrix(label, 'classification').accuracy().getInfo()\n",
    "svm_accuracy = svm_predictions.errorMatrix(label, 'classification').accuracy().getInfo()\n",
    "cart_accuracy = cart_predictions.errorMatrix(label, 'classification').accuracy().getInfo()\n",
    "\n",
    "# Print the accuracy of each model\n",
    "print('Random Forest Accuracy:', rf_accuracy)\n",
    "print('SVM Accuracy:', svm_accuracy)\n",
    "print('CART Accuracy:', cart_accuracy)"
   ]
  },
  {
   "cell_type": "markdown",
   "metadata": {},
   "source": [
    "#### Prediction of landcover on 2022 images\n",
    "\n",
    "Since Random Forest has the most accuracy, we will go with it as our final model for predictions classify and visualize the images from 2022 and also images from 2022 fall. "
   ]
  },
  {
   "cell_type": "code",
   "execution_count": 169,
   "metadata": {},
   "outputs": [
    {
     "data": {
      "text/html": [
       "\n",
       "            <style>\n",
       "                .geemap-dark {\n",
       "                    --jp-widgets-color: white;\n",
       "                    --jp-widgets-label-color: white;\n",
       "                    --jp-ui-font-color1: white;\n",
       "                    --jp-layout-color2: #454545;\n",
       "                    background-color: #383838;\n",
       "                }\n",
       "                    \n",
       "                .geemap-dark .jupyter-button {\n",
       "                    --jp-layout-color3: #383838;\n",
       "                }\n",
       "                \n",
       "                .geemap-colab {\n",
       "                    background-color: var(--colab-primary-surface-color, white);\n",
       "                }\n",
       "                    \n",
       "                .geemap-colab .jupyter-button {\n",
       "                    --jp-layout-color3: var(--colab-primary-surface-color, white);\n",
       "                }\n",
       "            </style>\n",
       "            "
      ],
      "text/plain": [
       "<IPython.core.display.HTML object>"
      ]
     },
     "metadata": {},
     "output_type": "display_data"
    }
   ],
   "source": [
    "# Classify the first image from 2020 with the same bands used for training.\n",
    "classify_2020 = landsat_2020.select(bands).classify(rf_model)\n",
    "\n",
    "# Classify the image from 2022 with the same bands used for training.\n",
    "classify_2022 = landsat_2022.select(bands).classify(rf_model)\n",
    "\n",
    "# Classify the image from 2022 fall with the same bands used for training.\n",
    "classify_2022_fall = landsat_2022_fall.select(bands).classify(rf_model)"
   ]
  },
  {
   "cell_type": "markdown",
   "metadata": {},
   "source": [
    "#### Visualize the results:\n",
    "In this step we will visualize the result, but first we need to get the bands and color palettes that are similar to what is used for classifying in nlcd data."
   ]
  },
  {
   "cell_type": "code",
   "execution_count": 164,
   "metadata": {},
   "outputs": [
    {
     "data": {
      "text/html": [
       "\n",
       "            <style>\n",
       "                .geemap-dark {\n",
       "                    --jp-widgets-color: white;\n",
       "                    --jp-widgets-label-color: white;\n",
       "                    --jp-ui-font-color1: white;\n",
       "                    --jp-layout-color2: #454545;\n",
       "                    background-color: #383838;\n",
       "                }\n",
       "                    \n",
       "                .geemap-dark .jupyter-button {\n",
       "                    --jp-layout-color3: #383838;\n",
       "                }\n",
       "                \n",
       "                .geemap-colab {\n",
       "                    background-color: var(--colab-primary-surface-color, white);\n",
       "                }\n",
       "                    \n",
       "                .geemap-colab .jupyter-button {\n",
       "                    --jp-layout-color3: var(--colab-primary-surface-color, white);\n",
       "                }\n",
       "            </style>\n",
       "            "
      ],
      "text/plain": [
       "<IPython.core.display.HTML object>"
      ]
     },
     "metadata": {},
     "output_type": "display_data"
    },
    {
     "data": {
      "text/plain": [
       "['033e00',\n",
       " '939b71',\n",
       " '196d12',\n",
       " '1fab01',\n",
       " '5b725c',\n",
       " '6b7d2c',\n",
       " 'b29d29',\n",
       " 'b48833',\n",
       " 'e9da5d',\n",
       " 'e0cd88',\n",
       " 'a07451',\n",
       " 'bad292',\n",
       " '3f8970',\n",
       " '6ca289',\n",
       " 'e6ad6a',\n",
       " 'a9abae',\n",
       " 'db2126',\n",
       " '4c73a1',\n",
       " 'fff7fe']"
      ]
     },
     "execution_count": 164,
     "metadata": {},
     "output_type": "execute_result"
    }
   ],
   "source": [
    "class_values = nlcd_2020.get('landcover_class_values').getInfo()\n",
    "class_values\n",
    "\n",
    "class_palette = nlcd_2020.get('landcover_class_palette').getInfo()\n",
    "class_palette"
   ]
  },
  {
   "cell_type": "code",
   "execution_count": 165,
   "metadata": {},
   "outputs": [
    {
     "data": {
      "text/html": [
       "\n",
       "            <style>\n",
       "                .geemap-dark {\n",
       "                    --jp-widgets-color: white;\n",
       "                    --jp-widgets-label-color: white;\n",
       "                    --jp-ui-font-color1: white;\n",
       "                    --jp-layout-color2: #454545;\n",
       "                    background-color: #383838;\n",
       "                }\n",
       "                    \n",
       "                .geemap-dark .jupyter-button {\n",
       "                    --jp-layout-color3: #383838;\n",
       "                }\n",
       "                \n",
       "                .geemap-colab {\n",
       "                    background-color: var(--colab-primary-surface-color, white);\n",
       "                }\n",
       "                    \n",
       "                .geemap-colab .jupyter-button {\n",
       "                    --jp-layout-color3: var(--colab-primary-surface-color, white);\n",
       "                }\n",
       "            </style>\n",
       "            "
      ],
      "text/plain": [
       "<IPython.core.display.HTML object>"
      ]
     },
     "metadata": {},
     "output_type": "display_data"
    },
    {
     "data": {
      "application/vnd.jupyter.widget-view+json": {
       "model_id": "701ab28b02ea4527a0fac2785baa6b75",
       "version_major": 2,
       "version_minor": 0
      },
      "text/plain": [
       "Map(center=[50.205892979516676, -126.7178366678171], controls=(WidgetControl(options=['position', 'transparent…"
      ]
     },
     "execution_count": 165,
     "metadata": {},
     "output_type": "execute_result"
    }
   ],
   "source": [
    "# Visualize the classification of 2020 map\n",
    "landcover_2020 = classify_2020.set('classification_class_values', class_values)\n",
    "landcover_2020 = landcover_2020.set('classification_class_palette', class_palette)\n",
    "Map2020 = geemap.Map()\n",
    "Map2020.centerObject(aoi_47, 8)\n",
    "Map2020.addLayer(landcover_2020, {}, 'Land cover')\n",
    "Map2020"
   ]
  },
  {
   "cell_type": "code",
   "execution_count": 166,
   "metadata": {},
   "outputs": [
    {
     "data": {
      "text/html": [
       "\n",
       "            <style>\n",
       "                .geemap-dark {\n",
       "                    --jp-widgets-color: white;\n",
       "                    --jp-widgets-label-color: white;\n",
       "                    --jp-ui-font-color1: white;\n",
       "                    --jp-layout-color2: #454545;\n",
       "                    background-color: #383838;\n",
       "                }\n",
       "                    \n",
       "                .geemap-dark .jupyter-button {\n",
       "                    --jp-layout-color3: #383838;\n",
       "                }\n",
       "                \n",
       "                .geemap-colab {\n",
       "                    background-color: var(--colab-primary-surface-color, white);\n",
       "                }\n",
       "                    \n",
       "                .geemap-colab .jupyter-button {\n",
       "                    --jp-layout-color3: var(--colab-primary-surface-color, white);\n",
       "                }\n",
       "            </style>\n",
       "            "
      ],
      "text/plain": [
       "<IPython.core.display.HTML object>"
      ]
     },
     "metadata": {},
     "output_type": "display_data"
    },
    {
     "data": {
      "application/vnd.jupyter.widget-view+json": {
       "model_id": "549819e7757948eb941b660319cf1619",
       "version_major": 2,
       "version_minor": 0
      },
      "text/plain": [
       "Map(center=[50.205892979516676, -126.7178366678171], controls=(WidgetControl(options=['position', 'transparent…"
      ]
     },
     "execution_count": 166,
     "metadata": {},
     "output_type": "execute_result"
    }
   ],
   "source": [
    "# Visualize the classification of 2022 map\n",
    "landcover_2022 = classify_2022.set('classification_class_values', class_values)\n",
    "landcover_2022 = landcover_2022.set('classification_class_palette', class_palette)\n",
    "Map2022 = geemap.Map()\n",
    "Map2022.centerObject(aoi_47, 8)\n",
    "Map2022.addLayer(landcover_2022, {}, 'Land cover')\n",
    "Map2022"
   ]
  },
  {
   "cell_type": "code",
   "execution_count": 170,
   "metadata": {},
   "outputs": [
    {
     "data": {
      "text/html": [
       "\n",
       "            <style>\n",
       "                .geemap-dark {\n",
       "                    --jp-widgets-color: white;\n",
       "                    --jp-widgets-label-color: white;\n",
       "                    --jp-ui-font-color1: white;\n",
       "                    --jp-layout-color2: #454545;\n",
       "                    background-color: #383838;\n",
       "                }\n",
       "                    \n",
       "                .geemap-dark .jupyter-button {\n",
       "                    --jp-layout-color3: #383838;\n",
       "                }\n",
       "                \n",
       "                .geemap-colab {\n",
       "                    background-color: var(--colab-primary-surface-color, white);\n",
       "                }\n",
       "                    \n",
       "                .geemap-colab .jupyter-button {\n",
       "                    --jp-layout-color3: var(--colab-primary-surface-color, white);\n",
       "                }\n",
       "            </style>\n",
       "            "
      ],
      "text/plain": [
       "<IPython.core.display.HTML object>"
      ]
     },
     "metadata": {},
     "output_type": "display_data"
    },
    {
     "data": {
      "application/vnd.jupyter.widget-view+json": {
       "model_id": "47752f92b08e430b96a060a61f37bab2",
       "version_major": 2,
       "version_minor": 0
      },
      "text/plain": [
       "Map(center=[50.205892979516676, -126.7178366678171], controls=(WidgetControl(options=['position', 'transparent…"
      ]
     },
     "execution_count": 170,
     "metadata": {},
     "output_type": "execute_result"
    }
   ],
   "source": [
    "# Visualize the classification of 2022 fall map\n",
    "landcover_2022_fall = classify_2022_fall.set('classification_class_values', class_values)\n",
    "landcover_2022_fall = landcover_2022_fall.set('classification_class_palette', class_palette)\n",
    "Map2022_fall = geemap.Map()\n",
    "Map2022_fall.centerObject(aoi_47, 8)\n",
    "Map2022_fall.addLayer(landcover_2022_fall, {}, 'Land cover')\n",
    "Map2022_fall"
   ]
  },
  {
   "cell_type": "code",
   "execution_count": null,
   "metadata": {},
   "outputs": [],
   "source": []
  }
 ],
 "metadata": {
  "kernelspec": {
   "display_name": "Python 3 (ipykernel)",
   "language": "python",
   "name": "python3"
  },
  "language_info": {
   "codemirror_mode": {
    "name": "ipython",
    "version": 3
   },
   "file_extension": ".py",
   "mimetype": "text/x-python",
   "name": "python",
   "nbconvert_exporter": "python",
   "pygments_lexer": "ipython3",
   "version": "3.11.2"
  }
 },
 "nbformat": 4,
 "nbformat_minor": 4
}
